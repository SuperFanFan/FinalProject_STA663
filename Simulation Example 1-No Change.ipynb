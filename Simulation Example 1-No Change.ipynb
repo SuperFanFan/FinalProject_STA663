{
 "metadata": {
  "name": "",
  "signature": "sha256:eac0554e977902eddfb8f740b91d3e98c400ab2c683075304935450b2b22fbf7"
 },
 "nbformat": 3,
 "nbformat_minor": 0,
 "worksheets": [
  {
   "cells": [
    {
     "cell_type": "code",
     "collapsed": false,
     "input": [
      "### This corresponds to the first simulation example provided by the paper: detection of change points for binary data. Only a sequence of 0-1 observations are available. The problem formulation is simple but the solution is non-trivial. "
     ],
     "language": "python",
     "metadata": {},
     "outputs": [],
     "prompt_number": 13
    },
    {
     "cell_type": "code",
     "collapsed": false,
     "input": [
      "### configuration\n",
      "from __future__ import division\n",
      "import os\n",
      "import sys\n",
      "import glob\n",
      "import matplotlib.pyplot as plt\n",
      "import numpy as np\n",
      "import pandas as pd\n",
      "import scipy.stats as stats\n",
      "import scipy.linalg as la\n",
      "from collections import Counter\n",
      "\n",
      "%matplotlib inline\n",
      "%precision 4\n",
      "plt.style.use('ggplot')"
     ],
     "language": "python",
     "metadata": {},
     "outputs": [],
     "prompt_number": 1
    },
    {
     "cell_type": "code",
     "collapsed": false,
     "input": [
      "### Simulation\n",
      "np.random.seed(901028)\n",
      "n = 150\n",
      "m = 2 # number of change points\n",
      "tau_true = np.array([50, 100])\n",
      "tau_true_rep = np.array([tau_true[0], tau_true[1] - tau_true[0], n - tau_true[1]])\n",
      "s_true = np.repeat(range(0, m+1), tau_true_rep)\n",
      "theta_true = np.array([0.5, 0.75, 0.25])\n",
      "y = np.random.binomial(1, theta_true[s_true], size = n)\n",
      "plt.figure(figsize=(8, 6))\n",
      "plt.plot(np.arange(n) + 1, np.cumsum(y), '-b', linewidth = 2)\n",
      "plt.xlabel('Time')\n",
      "plt.ylabel('Cumulative sum')\n",
      "plt.xlim([0, 151])\n",
      "plt.title('Binary 0-1 data')"
     ],
     "language": "python",
     "metadata": {},
     "outputs": [
      {
       "metadata": {},
       "output_type": "pyout",
       "prompt_number": 2,
       "text": [
        "<matplotlib.text.Text at 0x7fcdc267c910>"
       ]
      },
      {
       "metadata": {},
       "output_type": "display_data",
       "png": "[encoded data removed]",
       "text": [
        "<matplotlib.figure.Figure at 0x7fcdc270ba10>"
       ]
      }
     ],
     "prompt_number": 2
    },
    {
     "cell_type": "code",
     "collapsed": true,
     "input": [
      "######################################\n",
      "### Estimation for m = 2\n",
      "######################################\n",
      "# priors\n",
      "a, b = 8, 0.1\n",
      "c, d = 2, 2\n",
      "# Inits\n",
      "s = [0 for i in range(n - m)]\n",
      "for i in range(1, m + 1): \n",
      "    s.append(i)\n",
      "\n",
      "PS_lag = np.zeros((n, m + 1))                  # Matrix for lag-1 probability\n",
      "PS_curr = np.zeros((n, m + 1))                 # Matrix for posterior mass\n",
      "PS_lag[0, 0] = 1\n",
      "PS_curr[0, 0] = 1\n",
      "# PS_lag[n-1, m] = 1\n",
      "# PS_curr[n-1, m] = 1\n",
      "    \n",
      "vsim = 4000\n",
      "burn = 1000\n",
      "v = 0\n",
      "S_posterior = np.zeros((vsim, n))\n",
      "THETA = np.zeros((vsim, m + 1))\n",
      "P_change_lag, P_change_curr = np.zeros((n, m + 1)), np.zeros((n, m + 1))\n",
      "\n",
      "while v < vsim:\n",
      "    \n",
      "    # Update P\n",
      "    nk = np.array(Counter(s).values())\n",
      "    nii = nk - 1\n",
      "    p = stats.beta.rvs(a + nii, np.repeat(b + 1, m + 1), size = m + 1)\n",
      "    p[m] = 1\n",
      "    \n",
      "    # Update THETA\n",
      "    uk = np.array([sum([yt * (st == k) for yt, st in zip(y, s)]) for k in range(0, m + 1)])\n",
      "    theta = stats.beta.rvs(c + uk, d + nk - uk, size = m + 1)\n",
      "    \n",
      "    # Update S - Most involved step\n",
      "    # Recursive calculation of the first quantity in equation (5)\n",
      "    for i in range(1, n - 1):\n",
      "        PS_lag[i, 0] = p[0] * PS_curr[i-1, 0]\n",
      "        for j in range(1, m + 1):\n",
      "            PS_lag[i, j] = (1.0 - p[j-1]) * PS_curr[i-1, j-1] + p[j] * PS_curr[i-1, j]\n",
      "        for k in range(m + 1):\n",
      "            PS_curr[i, k] = PS_lag[i, k] * stats.binom.pmf(y[i], 1, theta[k])\n",
      "        PS_curr[i,] = PS_curr[i, ] / (PS_curr[i, ]).sum()\n",
      "\n",
      "\n",
      "    # Sampling s_t\n",
      "    for i in range(n - 2, 0, -1): # omit update s_n and s_1 because of their degeneracy\n",
      "        s_future = s[i + 1]\n",
      "        if (s_future == 0):\n",
      "            s = [0 if t < i + 1 else s[t] for t in range(n)]\n",
      "            break\n",
      "        elif (s_future > 0):\n",
      "            p_stay = PS_curr[i, s_future] * p[s_future]\n",
      "            p_jump = PS_curr[i, s_future - 1] * (1 - p[s_future - 1])\n",
      "            p_sum = p_stay + p_jump\n",
      "            s[i] = np.random.choice([s_future, s_future - 1], 1, p = [p_stay / p_sum, p_jump / p_sum])[0]\n",
      "    \n",
      "    # Save results\n",
      "    S_posterior[v,] = s\n",
      "    THETA[v,] = theta\n",
      "    if(v + 1 > burn):\n",
      "        P_change_lag = P_change_lag + PS_lag\n",
      "        P_change_curr = P_change_curr + PS_curr\n",
      "    \n",
      "    # loop control\n",
      "    if((v + 1) % 200 == 0):\n",
      "        print (v + 1)\n",
      "    v = v + 1\n"
     ],
     "language": "python",
     "metadata": {},
     "outputs": [
      {
       "output_type": "stream",
       "stream": "stdout",
       "text": [
        "200\n",
        "400"
       ]
      },
      {
       "output_type": "stream",
       "stream": "stdout",
       "text": [
        "\n",
        "600"
       ]
      },
      {
       "output_type": "stream",
       "stream": "stdout",
       "text": [
        "\n",
        "800"
       ]
      },
      {
       "output_type": "stream",
       "stream": "stdout",
       "text": [
        "\n",
        "1000"
       ]
      },
      {
       "output_type": "stream",
       "stream": "stdout",
       "text": [
        "\n",
        "1200"
       ]
      },
      {
       "output_type": "stream",
       "stream": "stdout",
       "text": [
        "\n",
        "1400"
       ]
      },
      {
       "output_type": "stream",
       "stream": "stdout",
       "text": [
        "\n",
        "1600"
       ]
      },
      {
       "output_type": "stream",
       "stream": "stdout",
       "text": [
        "\n",
        "1800"
       ]
      },
      {
       "output_type": "stream",
       "stream": "stdout",
       "text": [
        "\n",
        "2000"
       ]
      },
      {
       "output_type": "stream",
       "stream": "stdout",
       "text": [
        "\n",
        "2200"
       ]
      },
      {
       "output_type": "stream",
       "stream": "stdout",
       "text": [
        "\n",
        "2400"
       ]
      },
      {
       "output_type": "stream",
       "stream": "stdout",
       "text": [
        "\n",
        "2600"
       ]
      },
      {
       "output_type": "stream",
       "stream": "stdout",
       "text": [
        "\n",
        "2800"
       ]
      },
      {
       "output_type": "stream",
       "stream": "stdout",
       "text": [
        "\n",
        "3000"
       ]
      },
      {
       "output_type": "stream",
       "stream": "stdout",
       "text": [
        "\n",
        "3200"
       ]
      },
      {
       "output_type": "stream",
       "stream": "stdout",
       "text": [
        "\n",
        "3400"
       ]
      },
      {
       "output_type": "stream",
       "stream": "stdout",
       "text": [
        "\n",
        "3600"
       ]
      },
      {
       "output_type": "stream",
       "stream": "stdout",
       "text": [
        "\n",
        "3800"
       ]
      },
      {
       "output_type": "stream",
       "stream": "stdout",
       "text": [
        "\n",
        "4000"
       ]
      },
      {
       "output_type": "stream",
       "stream": "stdout",
       "text": [
        "\n"
       ]
      }
     ],
     "prompt_number": 3
    },
    {
     "cell_type": "code",
     "collapsed": false,
     "input": [
      "# Posterior summary\n",
      "PrS = PS_curr\n",
      "# PrS = PS_curr / (vsim - burn)\n",
      "time = np.arange(1, n + 1)\n",
      "plt.figure(figsize = (8, 6))\n",
      "plt.plot(time, PrS[:,0], \"o\", label = \"st = 1\", markerfacecolor = \"none\", markeredgecolor = \"red\")\n",
      "plt.plot(time, PrS[:,1], \"o\", label = \"st = 2\", markerfacecolor = \"none\", markeredgecolor = \"blue\")\n",
      "plt.plot(time, PrS[:,2], \"o\", label = \"st = 3\", markerfacecolor = \"none\", markeredgecolor = \"gray\")\n",
      "plt.xlim([0, 151])\n",
      "plt.ylim([0, 1])\n",
      "plt.xlabel(\"Time\")\n",
      "plt.ylabel(\"Pr(st|Yn)\")\n",
      "plt.title(\"Posterior probability of s_t = k given binary data Y_n\")"
     ],
     "language": "python",
     "metadata": {},
     "outputs": [
      {
       "metadata": {},
       "output_type": "pyout",
       "prompt_number": 12,
       "text": [
        "<matplotlib.text.Text at 0x7fcdc1652e90>"
       ]
      },
      {
       "metadata": {},
       "output_type": "display_data",
       "png": "[encoded data removed]",
       "text": [
        "<matplotlib.figure.Figure at 0x7fcdc19e8590>"
       ]
      }
     ],
     "prompt_number": 12
    },
    {
     "cell_type": "code",
     "collapsed": false,
     "input": [
      "# Posterior summary\n",
      "burn = 1000\n",
      "PrS = np.zeros((n, m + 1))\n",
      "for i in range(m + 1):\n",
      "    PrS[:,i] = (S_posterior[burn:,] == i).mean(axis = 0)\n",
      "time = np.arange(1, n + 1)\n",
      "plt.figure(figsize = (8, 6))\n",
      "plt.plot(time, PrS[:,0], \"o\", label = \"st = 1\", markerfacecolor = \"none\", markeredgecolor = \"red\")\n",
      "plt.plot(time, PrS[:,1], \"o\", label = \"st = 2\", markerfacecolor = \"none\", markeredgecolor = \"blue\")\n",
      "plt.plot(time, PrS[:,2], \"o\", label = \"st = 3\", markerfacecolor = \"none\", markeredgecolor = \"gray\")\n",
      "plt.xlim([0, 151])\n",
      "plt.ylim([0, 1])\n",
      "plt.xlabel(\"Time\")\n",
      "plt.ylabel(\"Pr(st|Yn)\")\n",
      "plt.title(\"Posterior probability of s_t = k given binary data Y_n\")"
     ],
     "language": "python",
     "metadata": {},
     "outputs": [
      {
       "metadata": {},
       "output_type": "pyout",
       "prompt_number": 9,
       "text": [
        "<matplotlib.text.Text at 0x7fcdc15b6a50>"
       ]
      },
      {
       "metadata": {},
       "output_type": "display_data",
       "png": "[encoded data removed]",
       "text": [
        "<matplotlib.figure.Figure at 0x7fcdc1886250>"
       ]
      }
     ],
     "prompt_number": 9
    },
    {
     "cell_type": "code",
     "collapsed": false,
     "input": [
      "s_estimate = [0 for i in range(n)]\n",
      "for i in range(n):\n",
      "    s_estimate[i] = np.argmax(np.bincount(S_posterior[burn:,i].astype('int')))\n",
      "# print s_estimate\n",
      "## Estimation of the change point time\n",
      "## Truth - tau_1 = 50 tau_2 = 100, tau_3 = 150\n",
      "print np.cumsum(np.bincount(s_estimate))\n",
      "## Estimation of model probabilities\n",
      "## Truth - theta_1 = 0.5 theta_2 = 0.75 theta_3 = 0.25\n",
      "print THETA[burn:,].mean(axis = 0)"
     ],
     "language": "python",
     "metadata": {},
     "outputs": [
      {
       "output_type": "stream",
       "stream": "stdout",
       "text": [
        "[ 57 100 150]\n",
        "[ 0.5937  0.58    0.2912]\n"
       ]
      }
     ],
     "prompt_number": 10
    },
    {
     "cell_type": "markdown",
     "metadata": {},
     "source": [
      "### From the simple example, we saw some agreement with the posterior estimates and the true parameter values."
     ]
    },
    {
     "cell_type": "markdown",
     "metadata": {},
     "source": [
      "### Below are practice code to be modified later"
     ]
    },
    {
     "cell_type": "code",
     "collapsed": false,
     "input": [
      "# Update P\n",
      "nk = np.array(Counter(s).values())\n",
      "nii = nk - 1\n",
      "p = stats.beta.rvs(a + nii, np.repeat(b + 1, m + 1), size = m + 1)\n",
      "print nk"
     ],
     "language": "python",
     "metadata": {},
     "outputs": [
      {
       "output_type": "stream",
       "stream": "stdout",
       "text": [
        "[148   1   1]\n"
       ]
      }
     ],
     "prompt_number": 58
    },
    {
     "cell_type": "code",
     "collapsed": false,
     "input": [
      "# Update THETA\n",
      "uk = np.array([sum([yt * (st == k) for yt, st in zip(y, s)]) for k in range(0, m + 1)])\n",
      "theta = stats.beta.rvs(c + uk, d + nk - uk, size = m + 1)\n",
      "print theta"
     ],
     "language": "python",
     "metadata": {},
     "outputs": [
      {
       "output_type": "stream",
       "stream": "stdout",
       "text": [
        "[ 0.5066  0.3031  0.2868]\n"
       ]
      }
     ],
     "prompt_number": 59
    },
    {
     "cell_type": "code",
     "collapsed": false,
     "input": [
      "# Update S - Most involved step\n",
      "PS_lag = np.zeros((n - 1, m + 1))                  # Matrix for lag-1 probability\n",
      "PS_curr = np.zeros((n - 1, m + 1))                 # Matrix for posterior mass\n",
      "PS_lag[0, 0] = 1\n",
      "PS_curr[0, 0] = 1\n",
      "\n",
      "# Recursive calculation of the first quantity in equation (5)\n",
      "for i in range(1, n - 1):\n",
      "    PS_lag[i, 0] = p[0] * PS_curr[i-1, 0]\n",
      "    for j in range(1, m + 1):\n",
      "        PS_lag[i, j] = (1.0 - p[j-1]) * PS_curr[i-1, j-1] + p[j] * PS_curr[i-1, j]\n",
      "    for k in range(m + 1):\n",
      "        PS_curr[i, k] = PS_lag[i, k] * stats.binom.pmf(y[i], 1, theta[s[k]])\n",
      "    PS_curr[i,] = PS_curr[i, ] / (PS_curr[i, ]).sum()\n",
      "\n",
      "# Sampling s_t\n",
      "for i in range(n - 2, 0, -1): # omit update s_n and s_1 because of their degeneracy\n",
      "    s_future = s[i + 1]\n",
      "    p_stay = PS_curr[i, s_future] * p[s_future]\n",
      "    p_jump = PS_curr[i, s_future - 1] * (1 - p[s_future - 1])\n",
      "    p_sum = p_stay + p_jump\n",
      "    s[i] = np.random.choice([s_future, s_future - 1], 1, p = [p_stay / p_sum, p_jump / p_sum])[0]\n",
      "\n",
      "print s\n",
      "    \n",
      "    \n"
     ],
     "language": "python",
     "metadata": {},
     "outputs": [
      {
       "output_type": "stream",
       "stream": "stdout",
       "text": [
        "[0, 0, 0, 0, 0, 0, 0, 0, 0, 0, 0, 0, 0, 0, 0, 0, 0, 0, 0, 0, 0, 0, 0, 0, 0, 0, 0, 0, 0, 0, 0, 0, 0, 0, 0, 0, 0, 0, 0, 0, 0, 0, 0, 0, 0, 0, 0, 0, 0, 0, 0, 0, 0, 0, 0, 0, 0, 0, 0, 0, 0, 0, 0, 0, 0, 0, 0, 0, 0, 0, 0, 0, 0, 0, 0, 0, 0, 0, 0, 0, 0, 0, 0, 0, 0, 0, 0, 0, 0, 0, 0, 0, 0, 0, 0, 0, 0, 0, 0, 0, 0, 0, 0, 0, 0, 0, 0, 0, 0, 0, 0, 0, 0, 0, 0, 0, 0, 1, 2, 2, 2, 2, 2, 2, 2, 2, 2, 2, 2, 2, 2, 2, 2, 2, 2, 2, 2, 2, 2, 2, 2, 2, 2, 2, 2, 2, 2, 2, 2, 2]\n"
       ]
      }
     ],
     "prompt_number": 64
    },
    {
     "cell_type": "code",
     "collapsed": false,
     "input": [
      "[s_future, s_future - 1]"
     ],
     "language": "python",
     "metadata": {},
     "outputs": [
      {
       "metadata": {},
       "output_type": "pyout",
       "prompt_number": 54,
       "text": [
        "[array([2]), array([1])]"
       ]
      }
     ],
     "prompt_number": 54
    },
    {
     "cell_type": "code",
     "collapsed": false,
     "input": [
      "np.random.choice([1,2], 1, p = [0.3, 0.7])"
     ],
     "language": "python",
     "metadata": {},
     "outputs": [
      {
       "metadata": {},
       "output_type": "pyout",
       "prompt_number": 48,
       "text": [
        "array([2])"
       ]
      }
     ],
     "prompt_number": 48
    },
    {
     "cell_type": "code",
     "collapsed": false,
     "input": [
      "# Update S\n",
      "S_mat = np.zeros((n, m + 1))\n",
      "S_mat[0, 0], S_mat[n-1, m] = 1, 1\n",
      "\n",
      "def init_p(pt, pd, n):\n",
      "    \" Functions to initialize p_stk \"\n",
      "    \" pt: Transition probability; pd: Regime probability; n: number of regimes. \"\n",
      "    p_stk = np.zeros(n)\n",
      "    p_stk[0] = pt[0] * pd[0]\n",
      "    # for i in range(1, n-1):\n",
      "    for i in range(1, n):\n",
      "        p_stk[i] = (1.0-pt[i-1]) * pd[i-1] + pt[i] * pd[i]\n",
      "    # p_stk[n-1] = 1.0 - sum(p_stk)\n",
      "    return p_stk / p_stk.sum()\n",
      "\n",
      "def update_p(ps, yt, n):\n",
      "    \" ps: lag-1 conditional probability initialized in S; yt: oberservation at time t; n: number of regimes\"\n",
      "    p_stk = np.zeros(n)\n",
      "    for i in range(m + 1):\n",
      "        p_stk[i] = ps[i] * stats.binom.pmf(yt, 1, theta)\n",
      "\n",
      "# initialization\n",
      "for i in range(1, n-1):\n",
      "    S_mat[i,] = init_p(pt = p, pd = S_mat[i-1,], n = m + 1)\n",
      "\n",
      "# new updates\n",
      "for i in range(n):\n",
      "    for j in range(m + 1):\n",
      "        \n",
      "    p_stk = \n",
      "\n",
      "# S_mat\n"
     ],
     "language": "python",
     "metadata": {},
     "outputs": [
      {
       "ename": "IndentationError",
       "evalue": "expected an indented block (<ipython-input-35-eed5199d206c>, line 30)",
       "output_type": "pyerr",
       "traceback": [
        "\u001b[1;36m  File \u001b[1;32m\"<ipython-input-35-eed5199d206c>\"\u001b[1;36m, line \u001b[1;32m30\u001b[0m\n\u001b[1;33m    p_stk =\u001b[0m\n\u001b[1;37m        ^\u001b[0m\n\u001b[1;31mIndentationError\u001b[0m\u001b[1;31m:\u001b[0m expected an indented block\n"
       ]
      }
     ],
     "prompt_number": 35
    },
    {
     "cell_type": "code",
     "collapsed": false,
     "input": [
      "a = np.array([2,3])\n",
      "a = np.append(a, 3)\n",
      "print a"
     ],
     "language": "python",
     "metadata": {},
     "outputs": [
      {
       "output_type": "stream",
       "stream": "stdout",
       "text": [
        "[2 3 3]\n"
       ]
      }
     ],
     "prompt_number": 16
    },
    {
     "cell_type": "code",
     "collapsed": false,
     "input": [],
     "language": "python",
     "metadata": {},
     "outputs": []
    }
   ],
   "metadata": {}
  }
 ]
}